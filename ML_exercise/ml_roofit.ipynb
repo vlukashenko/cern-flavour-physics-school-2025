{
 "cells": [
  {
   "cell_type": "markdown",
   "metadata": {},
   "source": [
    "Fit example using ROOFit"
   ]
  },
  {
   "cell_type": "code",
   "execution_count": null,
   "metadata": {},
   "outputs": [],
   "source": [
    "import pandas as pd\n",
    "import ROOT as R\n",
    "from ROOT import RooRealVar, RooGaussian, RooExponential, RooAddPdf, RooArgSet, RooArgList, RooDataSet, RooFit, RooPlot\n",
    "import matplotlib.pyplot as plt"
   ]
  },
  {
   "cell_type": "markdown",
   "metadata": {},
   "source": [
    "Import dataset as a RooDataSet"
   ]
  },
  {
   "cell_type": "code",
   "execution_count": null,
   "metadata": {},
   "outputs": [],
   "source": [
    "df = pd.read_csv(\"../datasets/dataset.csv\", header=None)\n",
    "# convert cvs file into 1D array \n",
    "xData = df.values.flatten() \n",
    "\n",
    "# determine mass range from data \n",
    "xmin, xmax = xData.min(), xData.max()\n",
    "# define observable\n",
    "mass = RooRealVar(\"mass\", \"Mass [MeV/c^{2}]\", xmin, xmax)\n",
    "\n",
    "# building RooDataSet starting from data\n",
    "data = RooDataSet(\"data\", \"dataset from CSV\", RooArgSet(mass))\n",
    "for val in xData:\n",
    "    mass.setVal(val)\n",
    "    data.add(RooArgSet(mass))"
   ]
  },
  {
   "cell_type": "markdown",
   "metadata": {},
   "source": [
    "Building the fit model with a simple pdf: gaussian for the signal + exponential for the background"
   ]
  },
  {
   "cell_type": "code",
   "execution_count": null,
   "metadata": {},
   "outputs": [],
   "source": [
    "# building fit model \n",
    "mean = RooRealVar(\"mean\", \"Mean\", xData.mean(), 5, 15)\n",
    "sigma = RooRealVar(\"sigma\", \"Sigma\", xData.std(), 0., 5.)\n",
    "gauss = RooGaussian(\"gauss\", \"Signal PDF\", mass, mean, sigma)\n",
    "\n",
    "tau = RooRealVar(\"tau\", \"Tau\", -0.1, -5, 0)  # start from something reasonable\n",
    "expo = RooExponential(\"expo\", \"Background PDF\", mass, tau)\n",
    "\n",
    "nsig = RooRealVar(\"nsig\", \"Signal yield\", len(xData) / 3, 0, len(xData))\n",
    "nbkg = RooRealVar(\"nbkg\", \"Background yield\", len(xData) / 2, 0, len(xData))\n",
    "\n",
    "model = RooAddPdf(\"model\", \"Signal + Background\", \n",
    "                  RooArgList(gauss, expo), \n",
    "                  RooArgList(nsig, nbkg))"
   ]
  },
  {
   "cell_type": "markdown",
   "metadata": {},
   "source": [
    "Run the fit! and save the results.."
   ]
  },
  {
   "cell_type": "code",
   "execution_count": null,
   "metadata": {},
   "outputs": [],
   "source": [
    "res = model.fitTo(data, RooFit.Extended(True), RooFit.PrintLevel(0), RooFit.Save(True))\n",
    "res.Print('V')"
   ]
  },
  {
   "cell_type": "markdown",
   "metadata": {},
   "source": [
    "Let's plot the fit result!"
   ]
  },
  {
   "cell_type": "code",
   "execution_count": null,
   "metadata": {},
   "outputs": [],
   "source": [
    "c1 = R.TCanvas(\"c1\", \"Fit to Data\", 800, 600)\n",
    "frame1 = mass.frame()\n",
    "data.plotOn(frame1)\n",
    "model.plotOn(\n",
    "    frame1,\n",
    "    RooFit.LineColor(R.kRed),\n",
    "    RooFit.Name('total')\n",
    "    )\n",
    "model.plotOn(\n",
    "    frame1,\n",
    "    RooFit.Components('gauss'),\n",
    "    RooFit.LineStyle(R.kDotted),\n",
    "    RooFit.LineColor(R.kBlue),\n",
    "    RooFit.Name('gauss')\n",
    ")\n",
    "model.plotOn(\n",
    "    frame1,\n",
    "    RooFit.Components('expo'),\n",
    "    RooFit.LineStyle(R.kDotted),\n",
    "    RooFit.LineColor(R.kOrange),\n",
    "    RooFit.Name('expo')\n",
    ")\n",
    "leg = R.TLegend(0.6, 0.7, 0.88, 0.88)\n",
    "leg.SetFillStyle(0)\n",
    "leg.SetBorderSize(0)\n",
    "\n",
    "total_curve = frame1.findObject('total')\n",
    "gauss_curve = frame1.findObject('gauss')\n",
    "expo_curve = frame1.findObject('expo')\n",
    "\n",
    "leg.AddEntry(gauss_curve, 'Signal', \"l\")\n",
    "leg.AddEntry(expo_curve, 'Combinatorial', \"l\")\n",
    "leg.AddEntry(total_curve, 'Total', \"l\")\n",
    "\n",
    "frame1.SetTitle(\"Fit to Data from CSV\")\n",
    "frame1.Draw()\n",
    "leg.Draw()\n",
    "c1.SaveAs(\"fit_to_data.pdf\")"
   ]
  },
  {
   "cell_type": "markdown",
   "metadata": {},
   "source": [
    "Plotting pulls distribution"
   ]
  },
  {
   "cell_type": "code",
   "execution_count": null,
   "metadata": {},
   "outputs": [],
   "source": [
    "c2 = R.TCanvas(\"c2\", \"Fit with Pulls\", 800, 800)\n",
    "pad1 = R.TPad(\"pad1\", \"Top pad\", 0, 0.3, 1, 1.0)\n",
    "pad2 = R.TPad(\"pad2\", \"Bottom pad\", 0, 0.05, 1, 0.3)\n",
    "\n",
    "pad1.SetBottomMargin(0) # remove axis label on top pad\n",
    "pad2.SetTopMargin(0) # remove margin from top pad\n",
    "pad2.SetBottomMargin(0.3)\n",
    "pad1.Draw()\n",
    "pad2.Draw()\n",
    "\n",
    "# define fit frame\n",
    "frame2 = mass.frame()\n",
    "data.plotOn(frame2)\n",
    "model.plotOn(frame2)\n",
    "\n",
    "# extract pulls\n",
    "pulls = frame2.pullHist()\n",
    "frame_pull = mass.frame()\n",
    "frame_pull.addPlotable(pulls, \"P\")\n",
    "frame_pull.SetTitle(\"Pull distribution\")\n",
    "frame_pull.GetYaxis().SetTitle(\"Pull\")\n",
    "frame_pull.GetYaxis().SetNdivisions(505)\n",
    "frame_pull.GetYaxis().SetLabelSize(0.12)\n",
    "frame_pull.GetXaxis().SetLabelSize(0.12)\n",
    "frame_pull.GetXaxis().SetTitleSize(0.12)\n",
    "frame_pull.GetXaxis().SetTitleOffset(1.0)\n",
    "\n",
    "pad1.cd()\n",
    "frame2.Draw()\n",
    "\n",
    "pad2.cd()\n",
    "frame_pull.Draw()\n",
    "\n",
    "c2.SaveAs(\"fit_with_pulls.pdf\")"
   ]
  },
  {
   "cell_type": "markdown",
   "metadata": {},
   "source": [
    "# TOYS\n",
    "Once we are happy with the fit model, we can start generating toys, based on the fit results, to check for biases in the parameter estimations. \n",
    "You can decide on the number of toy datasets to be generated. "
   ]
  },
  {
   "cell_type": "code",
   "execution_count": null,
   "metadata": {},
   "outputs": [],
   "source": [
    "n_toy = int(nsig.getVal() + nbkg.getVal())\n",
    "\n",
    "toy_datasets = []\n",
    "for i in range(2): \n",
    "    toy = model.generate(RooArgSet(mass), n_toy)\n",
    "    toy_datasets.append(toy)\n",
    "    # Save it for Systematics_zfit exercise\n",
    "    # Get all variables in the dataset\n",
    "    varlist = toy.get()\n",
    "    columns = [var.GetName() for var in varlist]\n",
    "\n",
    "    # Extract data\n",
    "    data = []\n",
    "    for t in range(toy.numEntries()):\n",
    "        values = toy.get(t)\n",
    "        row = [values[var.GetName()].getVal() for var in varlist]\n",
    "        data.append(row)\n",
    "\n",
    "    # Save to CSV\n",
    "    df = pd.DataFrame(data, columns=columns)\n",
    "    df.to_csv(f\"toy_{i}.csv\", index=False)\n",
    "    "
   ]
  },
  {
   "cell_type": "markdown",
   "metadata": {},
   "source": [
    "What can we do with the toys? \n",
    "\n",
    "First, we can check if there is any bias in our fit by looking at the distribution of the fit parameters. \n",
    "For instance, we could fit our toy datasets with the same fit model defined above and plot the distribution of the nsig parameter"
   ]
  },
  {
   "cell_type": "code",
   "execution_count": null,
   "metadata": {},
   "outputs": [],
   "source": [
    "# Add here your solution"
   ]
  },
  {
   "cell_type": "markdown",
   "metadata": {},
   "source": [
    "<details>\n",
    "<summary><strong>Click to show the solution</strong></summary>\n",
    "    \n",
    "```python\n",
    "fitted_nsig = []\n",
    "err_nsig = []\n",
    "for toy in toy_datasets:\n",
    "    model.fitTo(toy, PrintLevel=-1)\n",
    "    fitted_nsig.append(nsig.getVal())\n",
    "    err_nsig.append(nsig.getError())\n",
    "```\n",
    "</details>"
   ]
  },
  {
   "cell_type": "markdown",
   "metadata": {},
   "source": [
    "TODO: \n",
    "- Plot histograms of the fitted parameter distributions across the toys. Is the mean value close to the generation one? \n",
    "- Increase the number of toys"
   ]
  },
  {
   "cell_type": "code",
   "execution_count": null,
   "metadata": {},
   "outputs": [],
   "source": [
    "# Add here your solution"
   ]
  },
  {
   "cell_type": "markdown",
   "metadata": {},
   "source": [
    "# Pulls\n",
    "Pulls are defined as (par_toy - par_ini) / par_toy_unc. They are expected to be centered at 0 with a standard deviation of 1. Also a useful documentation we can provide and they can read about toys: https://hep-physics.rockefeller.edu/luc/technical_reports/cdf5776_pulls.pdf \n",
    "To do: plot the pulls of the parameters"
   ]
  },
  {
   "cell_type": "code",
   "execution_count": null,
   "metadata": {},
   "outputs": [],
   "source": [
    "# Add here your solution"
   ]
  },
  {
   "cell_type": "markdown",
   "metadata": {},
   "source": [
    "<details>\n",
    "<summary><strong>Click to show the solution</strong></summary>\n",
    "    \n",
    "```python \n",
    "# Solution example for nsig\n",
    "init_par = 2019.4\n",
    "pulls = []\n",
    "for i in range(len(fitted_nsig)):\n",
    "    pulls.append((fitted_nsig[i] - init_par) / err_nsig[i])\n",
    "```\n",
    "</details>"
   ]
  },
  {
   "cell_type": "markdown",
   "metadata": {},
   "source": [
    "Additional tasks: Increase the number of toys, check the other parameters."
   ]
  },
  {
   "cell_type": "code",
   "execution_count": null,
   "metadata": {},
   "outputs": [],
   "source": [
    "# Add here your solution"
   ]
  },
  {
   "cell_type": "markdown",
   "metadata": {},
   "source": [
    "# More complicated models: partially-reconstructed background and gaussian constraints"
   ]
  },
  {
   "cell_type": "markdown",
   "metadata": {},
   "source": [
    "To do:\n",
    "- load the partreco dataset in a RooDaset\n",
    "- build a model with the additional part-reco component. \n",
    "    The preco model follows a $\\exp(x/\\xi) * [1 - \\mathrm{Erf}((x - \\alpha) / \\beta)]$ function. You can define a generic pdf with ROOT.RooGenericPdf() (see [documentation](https://root.cern.ch/doc/master/classRooGenericPdf.html)), where you can add directly customised formulas.\n",
    "    Hint: the erf function can be accessed from TMath::Erf()\n",
    "- plot the fit results with all the components"
   ]
  },
  {
   "cell_type": "code",
   "execution_count": null,
   "metadata": {},
   "outputs": [],
   "source": [
    "# Add here your solution for importing the dataset"
   ]
  },
  {
   "cell_type": "markdown",
   "metadata": {},
   "source": [
    "<details>\n",
    "<summary><strong>Click to show the solution</strong></summary>\n",
    "    \n",
    "```python\n",
    "df = pd.read_csv(\"../datasets/partreco_dataset1.csv\", header=None)\n",
    "# convert cvs file into 1D array \n",
    "xData = df.values.flatten() \n",
    "\n",
    "# determine mass range from data \n",
    "xmin, xmax = xData.min(), xData.max()\n",
    "# define observable\n",
    "mass = RooRealVar(\"mass\", \"Mass [MeV/c^{2}]\", xmin, xmax)\n",
    "\n",
    "# building RooDataSet starting from data\n",
    "data = RooDataSet(\"data\", \"dataset from CSV\", RooArgSet(mass))\n",
    "for val in xData:\n",
    "    mass.setVal(val)\n",
    "    data.add(RooArgSet(mass))\n",
    "```\n",
    "</details>"
   ]
  },
  {
   "cell_type": "code",
   "execution_count": null,
   "metadata": {},
   "outputs": [],
   "source": [
    "# Add here your solution for defining the model"
   ]
  },
  {
   "cell_type": "markdown",
   "metadata": {},
   "source": [
    "<details>\n",
    "<summary><strong>Click to show the solution</strong></summary>\n",
    "    \n",
    "```python\n",
    "mean = RooRealVar(\"mean\", \"Mean\", xData.mean(), 5, 15)\n",
    "sigma = RooRealVar(\"sigma\", \"Sigma\", xData.std(), 0., 5.)\n",
    "gauss = RooGaussian(\"gauss\", \"Signal PDF\", mass, mean, sigma)\n",
    "\n",
    "tau = RooRealVar(\"tau\", \"Tau\", -0.1, -5, 0)  # start from something reasonable\n",
    "expo = RooExponential(\"expo\", \"Background PDF\", mass, tau)\n",
    "\n",
    "# part-reco model\n",
    "# Parameters\n",
    "alpha = RooRealVar(\"alpha\", \"Erf turn-on\", 3, 0, 10)\n",
    "beta  = RooRealVar(\"beta\",  \"Erf width\", 1, 0.1, 10)\n",
    "xi    = RooRealVar(\"xi\", \"Exponential scale\", 5, 0.1, 20)\n",
    "\n",
    "# Combine exponential and erf via product (this is your part-reco shape)\n",
    "partReco_expr = \"exp(-mass/xi) * (1 - TMath::Erf((mass - alpha)/beta))\"\n",
    "partReco = R.RooGenericPdf(\"preco\", \"Partially Reco Bkg\", partReco_expr, RooArgList(mass, xi, alpha, beta))\n",
    "\n",
    "\n",
    "nsig = RooRealVar(\"nsig\", \"Signal yield\", len(xData) / 3, 0, len(xData))\n",
    "nbkg = RooRealVar(\"nbkg\", \"Background yield\", len(xData) / 2, 0, len(xData))\n",
    "npreco = RooRealVar(\"npreco\", \"Partially reconstructed yield\", len(xData) / 4, 0, len(xData))\n",
    "\n",
    "model = RooAddPdf(\"model\", \"Signal + Background + Part Reco\", \n",
    "                  RooArgList(gauss, expo, partReco), \n",
    "                  RooArgList(nsig, nbkg, npreco))\n",
    "```\n",
    "</details>"
   ]
  },
  {
   "cell_type": "code",
   "execution_count": null,
   "metadata": {},
   "outputs": [],
   "source": [
    "# run fit to data \n",
    "res = model.fitTo(data, RooFit.Extended(True), RooFit.PrintLevel(0), RooFit.Save(True))"
   ]
  },
  {
   "cell_type": "code",
   "execution_count": null,
   "metadata": {},
   "outputs": [],
   "source": [
    "# Add here your solution for plotting the result"
   ]
  },
  {
   "cell_type": "markdown",
   "metadata": {},
   "source": [
    "<details>\n",
    "<summary><strong>Click to show the solution</strong></summary>\n",
    "    \n",
    "```python\n",
    "c1 = R.TCanvas(\"c1\", \"Fit to Data\", 800, 600)\n",
    "frame1 = mass.frame()\n",
    "data.plotOn(frame1)\n",
    "model.plotOn(\n",
    "    frame1,\n",
    "    RooFit.LineColor(R.kRed),\n",
    "    RooFit.Name('total')\n",
    "    )\n",
    "model.plotOn(\n",
    "    frame1,\n",
    "    RooFit.Components('gauss'),\n",
    "    RooFit.LineStyle(R.kDotted),\n",
    "    RooFit.LineColor(R.kBlue),\n",
    "    RooFit.Name('gauss')\n",
    ")\n",
    "model.plotOn(\n",
    "    frame1,\n",
    "    RooFit.Components('expo'),\n",
    "    RooFit.LineStyle(R.kDotted),\n",
    "    RooFit.LineColor(R.kOrange),\n",
    "    RooFit.Name('expo')\n",
    ")\n",
    "model.plotOn(\n",
    "    frame1,\n",
    "    RooFit.Components('preco'),\n",
    "    RooFit.LineStyle(R.kDotted),\n",
    "    RooFit.LineColor(R.kGreen),\n",
    "    RooFit.Name('preco')\n",
    ")\n",
    "\n",
    "leg = R.TLegend(0.6, 0.7, 0.88, 0.88)\n",
    "leg.SetFillStyle(0)\n",
    "leg.SetBorderSize(0)\n",
    "\n",
    "total_curve = frame1.findObject('total')\n",
    "gauss_curve = frame1.findObject('gauss')\n",
    "expo_curve = frame1.findObject('expo')\n",
    "preco_curve = frame1.findObject('preco')\n",
    "\n",
    "leg.AddEntry(gauss_curve, 'Signal', \"l\")\n",
    "leg.AddEntry(expo_curve, 'Combinatorial', \"l\")\n",
    "leg.AddEntry(preco_curve, 'Part reco', \"l\")\n",
    "leg.AddEntry(total_curve, 'Total', \"l\")\n",
    "\n",
    "# frame1.SetTitle(\"Fit to Data from CSV\")\n",
    "frame1.Draw()\n",
    "leg.Draw()\n",
    "c1.SaveAs(\"fit_to_data_preco.pdf\")\n",
    "```\n",
    "</details>"
   ]
  },
  {
   "cell_type": "markdown",
   "metadata": {},
   "source": [
    "The fit is already quite good, but it might happen that you will have lower statistics, and you will need to fix / constraint some parameters in order to make your fit stable. To fix a parameter p is as simple as setting p.SetConstant(True). But let's see as an example how we can constrain the ratio between signal and part-reco yields, to be around 0.95 (let's say within a 15% uncertainty)"
   ]
  },
  {
   "cell_type": "code",
   "execution_count": null,
   "metadata": {},
   "outputs": [],
   "source": [
    "# Same as before\n",
    "# import dataset with partreco\n",
    "df = pd.read_csv(\"../datasets/partreco_dataset1.csv\", header=None)\n",
    "# convert cvs file into 1D array \n",
    "xData = df.values.flatten() \n",
    "# determine mass range from data \n",
    "xmin, xmax = xData.min(), xData.max()\n",
    "# define observable\n",
    "mass = RooRealVar(\"mass\", \"Mass [MeV/c^{2}]\", xmin, xmax)\n",
    "# building RooDataSet starting from data\n",
    "data = RooDataSet(\"data\", \"dataset from CSV\", RooArgSet(mass))\n",
    "for val in xData:\n",
    "    mass.setVal(val)\n",
    "    data.add(RooArgSet(mass))\n",
    "# Build model as before\n",
    "mean = RooRealVar(\"mean\", \"Mean\", xData.mean(), 5, 15)\n",
    "sigma = RooRealVar(\"sigma\", \"Sigma\", xData.std(), 0., 5.)\n",
    "gauss = RooGaussian(\"gauss\", \"Signal PDF\", mass, mean, sigma)\n",
    "tau = RooRealVar(\"tau\", \"Tau\", -0.1, -5, 0)  # start from something reasonable\n",
    "expo = RooExponential(\"expo\", \"Background PDF\", mass, tau)\n",
    "# part-reco model\n",
    "# Parameters\n",
    "alpha = RooRealVar(\"alpha\", \"Erf turn-on\", 3, 0, 10)\n",
    "beta  = RooRealVar(\"beta\",  \"Erf width\", 1, 0.1, 10)\n",
    "xi    = RooRealVar(\"xi\", \"Exponential scale\", 5, 0.1, 20)\n",
    "partReco_expr = \"exp(-mass/xi) * (1 - TMath::Erf((mass - alpha)/beta))\"\n",
    "partReco = R.RooGenericPdf(\"preco\", \"Partially Reco Bkg\", partReco_expr, RooArgList(mass, xi, alpha, beta))\n",
    "\n",
    "# YIELDS!\n",
    "nsig = RooRealVar(\"nsig\", \"Signal yield\", len(xData) / 3, 0, len(xData))\n",
    "nbkg = RooRealVar(\"nbkg\", \"Background yield\", len(xData) / 2, 0, len(xData))\n",
    "#### Here's the main point, as we want to constrain the npreco / nsig quantity. So we will write npreco as\n",
    "preco_scale = RooRealVar(\"preco_scale\", \"Signal over part-reco ratio\", 0.9, 0, 1)\n",
    "npreco = R.RooFormulaVar('npreco', '@0*@1', RooArgList(nsig, preco_scale))\n",
    "#Define the constraint on preco scale\n",
    "preco_constr =  RooGaussian(\"preco_constraint\", \"preco_constraint\", preco_scale, RooFit.RooConst(0.95), RooFit.RooConst(0.20))\n",
    "\n",
    "model = RooAddPdf(\"model\", \"Signal + Background + Part Reco\", \n",
    "                  RooArgList(gauss, expo, partReco), \n",
    "                  RooArgList(nsig, nbkg, npreco),\n",
    "                  )\n"
   ]
  },
  {
   "cell_type": "code",
   "execution_count": null,
   "metadata": {},
   "outputs": [],
   "source": [
    "res = model.fitTo(data, RooFit.Extended(True), RooFit.PrintLevel(0), RooFit.Save(True), RooFit.ExternalConstraints(preco_constr)) # Add the constrain)\n",
    "res.Print('V')"
   ]
  },
  {
   "cell_type": "markdown",
   "metadata": {},
   "source": [
    "Bonus: if you want you can try to play with the mean / width of the constraint and see how your fit results change."
   ]
  },
  {
   "cell_type": "markdown",
   "metadata": {},
   "source": [
    "Bonus: if we were to run toys with this model, how would you expect the pulls of the constrained parameter to look like?"
   ]
  },
  {
   "cell_type": "markdown",
   "metadata": {},
   "source": [
    "Not a trivial question, if you're curious you can look at: https://arxiv.org/pdf/1210.7141. Main point: the pulls will look exactly as the other parameters, because you need to think about the constraint as an external measurement made on your parameter, which is re-made every time you run a toy. In practical, this means that you need to generate randomly for each toy a new value of the mean of the guassian constraint. "
   ]
  }
 ],
 "metadata": {
  "kernelspec": {
   "display_name": "Python 3",
   "language": "python",
   "name": "python3"
  },
  "language_info": {
   "codemirror_mode": {
    "name": "ipython",
    "version": 3
   },
   "file_extension": ".py",
   "mimetype": "text/x-python",
   "name": "python",
   "nbconvert_exporter": "python",
   "pygments_lexer": "ipython3",
   "version": "3.9.19"
  }
 },
 "nbformat": 4,
 "nbformat_minor": 2
}
