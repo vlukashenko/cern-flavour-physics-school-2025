{
 "cells": [
  {
   "cell_type": "markdown",
   "id": "42f5fbf3",
   "metadata": {},
   "source": [
    "Example of maximum-likelihood fit with iminuit version 2.\n",
    "pdf is a mixture of Gaussian (signal) and exponential (background),\n",
    "truncated in [xMin,xMax].\n",
    "G. Cowan / RHUL Physics / December 2021"
   ]
  },
  {
   "cell_type": "code",
   "execution_count": null,
   "id": "dbac3347",
   "metadata": {},
   "outputs": [],
   "source": [
    "import numpy as np\n",
    "import scipy.stats as stats\n",
    "from scipy.stats import truncexpon\n",
    "from scipy.stats import truncnorm\n",
    "from scipy.stats import chi2\n",
    "import iminuit\n",
    "from iminuit import Minuit\n",
    "import matplotlib.pyplot as plt\n",
    "from matplotlib import container\n",
    "plt.rcParams[\"font.size\"] = 14\n",
    "print(\"iminuit version:\", iminuit.__version__)  # need 2.x"
   ]
  },
  {
   "cell_type": "code",
   "execution_count": null,
   "id": "c0e46b84",
   "metadata": {
    "lines_to_next_cell": 1
   },
   "outputs": [],
   "source": [
    "# define pdf and generate data\n",
    "np.random.seed(seed=1234567)        # fix random seed\n",
    "theta = 0.2                         # fraction of signal\n",
    "mu = 10.                            # mean of Gaussian\n",
    "sigma = 2.                          # std. dev. of Gaussian\n",
    "xi = 5.                             # mean of exponential\n",
    "xMin = 0.\n",
    "xMax = 20."
   ]
  },
  {
   "cell_type": "code",
   "execution_count": null,
   "id": "50dfb756",
   "metadata": {
    "lines_to_next_cell": 1
   },
   "outputs": [],
   "source": [
    "def f(x, par):\n",
    "    theta   = par[0]\n",
    "    mu      = par[1]\n",
    "    sigma   = par[2]\n",
    "    xi      = par[3]\n",
    "    fs = stats.truncnorm.pdf(x, a=(xMin-mu)/sigma, b=(xMax-mu)/sigma, loc=mu, scale=sigma)\n",
    "    fb = stats.truncexpon.pdf(x, b=(xMax-xMin)/xi, loc=xMin, scale=xi)\n",
    "    return theta*fs + (1-theta)*fb"
   ]
  },
  {
   "cell_type": "code",
   "execution_count": null,
   "id": "f9000241",
   "metadata": {
    "lines_to_next_cell": 1
   },
   "outputs": [],
   "source": [
    "numVal = 200\n",
    "xData = np.empty([numVal])\n",
    "for i in range (numVal):\n",
    "    r = np.random.uniform();\n",
    "    if r < theta:\n",
    "        xData[i] = stats.truncnorm.rvs(a=(xMin-mu)/sigma, b=(xMax-mu)/sigma, loc=mu, scale=sigma)\n",
    "    else:\n",
    "        xData[i] = stats.truncexpon.rvs(b=(xMax-xMin)/xi, loc=xMin, scale=xi)"
   ]
  },
  {
   "cell_type": "code",
   "execution_count": null,
   "id": "96fdd570",
   "metadata": {
    "lines_to_next_cell": 1
   },
   "outputs": [],
   "source": [
    "# Function to be minimized is negative log-likelihood\n",
    "def negLogL(par):\n",
    "    pdf = f(xData, par)\n",
    "    return -np.sum(np.log(pdf))"
   ]
  },
  {
   "cell_type": "code",
   "execution_count": null,
   "id": "8deb458c",
   "metadata": {},
   "outputs": [],
   "source": [
    "# Initialize Minuit and set up fit:\n",
    "parin   = np.array([theta, mu, sigma, xi]) # initial values (here = true values)\n",
    "parname = ['theta', 'mu', 'sigma', 'xi']\n",
    "parstep = np.array([0.1, 1., 1., 1.])      # initial setp sizes\n",
    "parfix  = [False, True, True, False]       # change these to fix/free parameters\n",
    "parlim  = [(0.,1), (None, None), (0., None), (0., None)]    # set limits\n",
    "m = Minuit(negLogL, parin, name=parname)\n",
    "m.errors = parstep\n",
    "m.fixed = parfix\n",
    "m.limits = parlim\n",
    "m.errordef = 0.5                           # errors from lnL = lnLmax - 0.5"
   ]
  },
  {
   "cell_type": "code",
   "execution_count": null,
   "id": "cb5a03f8",
   "metadata": {},
   "outputs": [],
   "source": [
    "# Do the fit, get errors, extract results\n",
    "m.migrad()                                        # minimize -logL\n",
    "MLE = m.values                                    # max-likelihood estimates\n",
    "sigmaMLE = m.errors                               # standard deviations\n",
    "cov = m.covariance                                # covariance matrix\n",
    "rho = m.covariance.correlation()                  # correlation coeffs."
   ]
  },
  {
   "cell_type": "code",
   "execution_count": null,
   "id": "e51240ff",
   "metadata": {},
   "outputs": [],
   "source": [
    "print(r\"par index, name, estimate, standard deviation:\")\n",
    "for i in range(m.npar):\n",
    "    if not m.fixed[i]:\n",
    "        print(\"{:4d}\".format(i), \"{:<10s}\".format(m.parameters[i]), \" = \",\n",
    "         \"{:.6f}\".format(MLE[i]), \" +/- \", \"{:.6f}\".format(sigmaMLE[i]))"
   ]
  },
  {
   "cell_type": "code",
   "execution_count": null,
   "id": "77cce8a9",
   "metadata": {},
   "outputs": [],
   "source": [
    "print()\n",
    "print(r\"free par indices, covariance, correlation coeff.:\")\n",
    "for i in range(m.npar):\n",
    "    if not(m.fixed[i]):\n",
    "        for j in range(m.npar):\n",
    "            if not(m.fixed[j]):\n",
    "                print(i, j, \"{:.6f}\".format(cov[i,j]), \"{:.6f}\".format(rho[i,j]))"
   ]
  },
  {
   "cell_type": "code",
   "execution_count": null,
   "id": "e071c19f",
   "metadata": {},
   "outputs": [],
   "source": [
    "# Plot fitted pdf\n",
    "yMin = 0.\n",
    "yMax = f(0., MLE)*1.1\n",
    "fig = plt.figure(figsize=(8,6))\n",
    "xCurve = np.linspace(xMin, xMax, 100)\n",
    "yCurve = f(xCurve, MLE)\n",
    "plt.plot(xCurve, yCurve, color='dodgerblue')"
   ]
  },
  {
   "cell_type": "code",
   "execution_count": null,
   "id": "b4204357",
   "metadata": {},
   "outputs": [],
   "source": [
    "# Plot data as tick marks\n",
    "tick_height = 0.05*(yMax - yMin)\n",
    "xvals = [xData, xData]\n",
    "yvals = [np.zeros_like(xData), tick_height * np.ones_like(xData)]\n",
    "plt.plot(xvals, yvals, color='black', linewidth=1)\n",
    "plt.xlabel(r'$x$')\n",
    "plt.ylabel(r'$f(x; \\theta)$')\n",
    "plt.figtext(0.6, 0.8, r'$\\hat{\\theta} = $' + f'{MLE[0]:.4f}' +\n",
    "            r'$\\pm$' + f'{sigmaMLE[0]:.4f}')\n",
    "plt.figtext(0.6, 0.72, r'$\\hat{\\xi} = $' + f'{MLE[3]:.4f}' +\n",
    "            r'$\\pm$' + f'{sigmaMLE[3]:.4f}')\n",
    "plt.xlim(xMin, xMax)\n",
    "plt.ylim(yMin, yMax)\n",
    "plt.show()"
   ]
  },
  {
   "cell_type": "code",
   "execution_count": null,
   "id": "5c2c0e0e",
   "metadata": {},
   "outputs": [],
   "source": [
    "# Make scan of lnL (for theta, if free)\n",
    "if not(m.fixed['theta']):\n",
    "    plt.figure()\n",
    "    m.draw_mnprofile('theta')\n",
    "    plt.show()"
   ]
  },
  {
   "cell_type": "code",
   "execution_count": null,
   "id": "46b0c1bf",
   "metadata": {},
   "outputs": [],
   "source": [
    "# Make a contour plot of lnL = lnLmax - 1/2 (here for theta and xi).\n",
    "# The tangents to this contour give the standard deviations.\n",
    "CL = stats.chi2.cdf(1.,2)            #  Q_alpha = 1, npar = 2\n",
    "print('CL = ', CL)\n",
    "if not(m.fixed['theta'] | m.fixed['xi']):\n",
    "    fig, ax = plt.subplots(1,1)\n",
    "    con = m.mncontour('theta', 'xi', cl=CL, size=200)\n",
    "    con = np.vstack([con, con[0]])         # close contour\n",
    "    plt.plot(MLE[0], MLE[3], marker='o', linestyle='None', color='black', label=r'$(\\hat{\\theta}, \\hat{\\xi})$')\n",
    "    plt.plot(con[:,0], con[:,1], color='black', linewidth=1)\n",
    "    plt.xlabel(r'$\\theta$', labelpad=5)\n",
    "    plt.ylabel(r'$\\xi$', labelpad=5)\n",
    "    handles, labels = ax.get_legend_handles_labels()\n",
    "    plt.legend(handles, labels, loc='upper right', fontsize=14, frameon=False)\n",
    "    plt.figtext(0.4, 0.93, r'$\\ln L = \\ln L_{\\rm max} - 1/2$')\n",
    "    plt.show()"
   ]
  },
  {
   "cell_type": "code",
   "execution_count": null,
   "id": "a33322a3",
   "metadata": {},
   "outputs": [],
   "source": [
    "# Confidence region from lnL = lnLmax - Q/2 (here for theta and xi)\n",
    "# where Q is the chi2 quantile of CL = 1-alpha = 0.683 and 0.95 for 2 dof.\n",
    "if not(m.fixed['theta'] | m.fixed['xi']):\n",
    "    fig, ax = plt.subplots(1,1)\n",
    "    m.draw_mncontour('theta', 'xi', cl=[0.683, 0.95], size=200);\n",
    "    plt.plot(MLE[0], MLE[3], marker='o', linestyle='None', color='black', label=r'$(\\hat{\\theta}, \\hat{\\xi})$')\n",
    "    plt.xlabel(r'$\\theta$', labelpad=10)\n",
    "    plt.ylabel(r'$\\xi$', labelpad=10)\n",
    "    plt.subplots_adjust(left=0.2, right=0.9, top=0.9, bottom=0.2)\n",
    "    handles, labels = ax.get_legend_handles_labels()\n",
    "    plt.legend(handles, labels, loc='upper right', fontsize=14, frameon=False)\n",
    "    plt.figtext(0.3, 0.93, r'$\\ln L = \\ln L_{\\rm max} - \\frac{1}{2} F^{-1}_{\\chi^2}(1-\\alpha;n)$')\n",
    "    plt.show()"
   ]
  }
 ],
 "metadata": {
  "jupytext": {
   "cell_metadata_filter": "-all",
   "main_language": "python",
   "notebook_metadata_filter": "-all"
  }
 },
 "nbformat": 4,
 "nbformat_minor": 5
}
