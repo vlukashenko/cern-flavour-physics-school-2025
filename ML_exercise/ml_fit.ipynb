{
 "cells": [
  {
   "cell_type": "markdown",
   "id": "42f5fbf3",
   "metadata": {},
   "source": [
    "Example of maximum-likelihood fit with iminuit version 2.\n",
    "pdf is a mixture of Gaussian (signal) and exponential (background),\n",
    "truncated in [xMin,xMax].\n",
    "G. Cowan / RHUL Physics / December 2021"
   ]
  },
  {
   "cell_type": "markdown",
   "id": "262ac5fe-e891-4cfc-9d4b-51989182cab5",
   "metadata": {},
   "source": [
    "We first will start with importing all the necessary packages. The exercise is based on python implementation of Minuit package. We will use it to perform an unbinned MLE fit to the generated mass-spectrum with one peak. "
   ]
  },
  {
   "cell_type": "code",
   "execution_count": 3,
   "id": "dbac3347",
   "metadata": {},
   "outputs": [
    {
     "name": "stdout",
     "output_type": "stream",
     "text": [
      "iminuit version: 2.31.1\n"
     ]
    }
   ],
   "source": [
    "import numpy as np\n",
    "import scipy.stats as stats\n",
    "from scipy.stats import truncexpon #truncated exponential in [a,b]\n",
    "from scipy.stats import truncnorm  #truncated normal distribution in [a,b]\n",
    "from scipy.stats import chi2\n",
    "import iminuit\n",
    "from iminuit import Minuit\n",
    "import matplotlib.pyplot as plt\n",
    "from matplotlib import container\n",
    "plt.rcParams[\"font.size\"] = 14\n",
    "print(\"iminuit version:\", iminuit.__version__)  # need 2.x"
   ]
  },
  {
   "cell_type": "markdown",
   "id": "245a49a7-2891-4861-8cad-15922b0359ff",
   "metadata": {},
   "source": [
    "Now, here we will upload the dataset generated for you beforehand. "
   ]
  },
  {
   "cell_type": "code",
   "execution_count": 4,
   "id": "c0e46b84",
   "metadata": {
    "lines_to_next_cell": 1
   },
   "outputs": [],
   "source": [
    "import pandas as pd\n",
    "\n",
    "df = pd.read_csv(\"../datasets/dataset.csv\", header=None)\n",
    "xData = df.values  "
   ]
  },
  {
   "cell_type": "markdown",
   "id": "4ac8bb3a-b164-402d-84f0-4886480af663",
   "metadata": {},
   "source": [
    "The model we will use is rather simple. The signal is modelled with a single Gaussian, while the background is modelled with exponential. The total PDF is defined as following :\n",
    "$$f(m) = \\theta \\cdot G(m; \\mu, \\sigma) + (1 - \\theta)\\cdot Exp(m; \\xi)$$\n",
    "where $\\theta$ is signal fraction and $\\xi$ is exponential power. "
   ]
  },
  {
   "cell_type": "code",
   "execution_count": null,
   "id": "50dfb756",
   "metadata": {
    "lines_to_next_cell": 1
   },
   "outputs": [],
   "source": [
    "def f(x, par):\n",
    "    theta   = par[0]\n",
    "    mu      = par[1]\n",
    "    sigma   = par[2]\n",
    "    xi      = par[3]\n",
    "    fs = stats.truncnorm.pdf(x, a=(xMin-mu)/sigma, b=(xMax-mu)/sigma, loc=mu, scale=sigma)\n",
    "    fb = stats.truncexpon.pdf(x, b=(xMax-xMin)/xi, loc=xMin, scale=xi)\n",
    "    return theta*fs + (1-theta)*fb"
   ]
  },
  {
   "cell_type": "markdown",
   "id": "7ff81451-9269-408a-b499-8ebfe400ab28",
   "metadata": {
    "lines_to_next_cell": 1
   },
   "source": [
    "We will now have to implement the nLL ourselves. Note, that Minuit expects the nLL python function to depend ONLY on the parameters. "
   ]
  },
  {
   "cell_type": "code",
   "execution_count": null,
   "id": "0d3c2793-9eb6-4b9a-b255-249575805bb6",
   "metadata": {
    "lines_to_next_cell": 1
   },
   "outputs": [],
   "source": [
    "def negLogL(par):\n",
    "    pdf = f(xData, par)\n",
    "    return -np.sum(np.log(pdf))"
   ]
  },
  {
   "cell_type": "markdown",
   "id": "950cd3d5-035e-4849-98b8-7464f6416082",
   "metadata": {},
   "source": [
    "Task 1: Configure the iminuit fit. For this we need to setup the 2 POI $\\theta$ and $\\xi$ and 2 nuisance parameters $\\mu$ and $\\sigma$. \n",
    "1. We configure initial values\n",
    "2. We configure initial step sizes for the parameter minimization.\n",
    "3. We configure the limits, if necessary.\n",
    "\n",
    "   "
   ]
  },
  {
   "cell_type": "code",
   "execution_count": null,
   "id": "8deb458c",
   "metadata": {},
   "outputs": [],
   "source": [
    "# Initialize Minuit and set up fit:\n",
    "parin   = np.array([theta, mu, sigma, xi]) # initial values (here = true values)\n",
    "parname = ['theta', 'mu', 'sigma', 'xi']\n",
    "\n",
    "\n",
    "#parstep = np.array([0.1, 1., 1., 1.])      # initial setp sizes \n",
    "#parfix  = [False, True, True, False]       # change these to fix/free parameters\n",
    "#parlim  = [(0.,1), (None, None), (0., None), (0., None)]    # set limits\n",
    "\n",
    "parstep = np.array([1000., 1000., 1000., 1000.])      # initial setp sizes \n",
    "parfix  = [False, False, False, False]       # change these to fix/free parameters\n",
    "parlim  = [(None, None), (None, None), (None, None), (None, None)]    # set limits\n",
    "m = Minuit(negLogL, parin, name=parname)\n",
    "m.errors = parstep\n",
    "m.fixed = parfix\n",
    "m.limits = parlim\n",
    "m.errordef = 0.1                          # errors from lnL = lnLmax - x"
   ]
  },
  {
   "cell_type": "markdown",
   "id": "618233c7-cdf3-46b9-8278-7c8e3218a492",
   "metadata": {},
   "source": [
    "Now let's dot he fit and get the covariance."
   ]
  },
  {
   "cell_type": "code",
   "execution_count": null,
   "id": "cb5a03f8",
   "metadata": {},
   "outputs": [],
   "source": [
    "# Do the fit, get errors, extract results\n",
    "m.migrad()                                        # minimize -logL\n",
    "MLE = m.values                                    # max-likelihood estimates\n",
    "sigmaMLE = m.errors                               # standard deviations\n",
    "cov = m.covariance                                # covariance matrix\n",
    "rho = m.covariance.correlation()                  # correlation coeffs."
   ]
  },
  {
   "cell_type": "markdown",
   "id": "848d170e-9a58-43e7-811f-a87bc87a7aea",
   "metadata": {},
   "source": [
    "Check the parameters values and standard deviation. "
   ]
  },
  {
   "cell_type": "code",
   "execution_count": null,
   "id": "e51240ff",
   "metadata": {},
   "outputs": [],
   "source": [
    "print(r\"par index, name, estimate, standard deviation:\")\n",
    "for i in range(m.npar):\n",
    "    if not m.fixed[i]:\n",
    "        print(\"{:4d}\".format(i), \"{:<10s}\".format(m.parameters[i]), \" = \",\n",
    "         \"{:.6f}\".format(MLE[i]), \" +/- \", \"{:.6f}\".format(sigmaMLE[i]))"
   ]
  },
  {
   "cell_type": "code",
   "execution_count": null,
   "id": "77cce8a9",
   "metadata": {},
   "outputs": [],
   "source": [
    "print()\n",
    "print(r\"free par indices, covariance, correlation coeff.:\")\n",
    "for i in range(m.npar):\n",
    "    if not(m.fixed[i]):\n",
    "        for j in range(m.npar):\n",
    "            if not(m.fixed[j]):\n",
    "                print(i, j, \"{:.6f}\".format(cov[i,j]), \"{:.6f}\".format(rho[i,j]))"
   ]
  },
  {
   "cell_type": "code",
   "execution_count": null,
   "id": "e071c19f",
   "metadata": {},
   "outputs": [],
   "source": [
    "# Plot fitted pdf\n",
    "yMin = 0.\n",
    "yMax = f(0., MLE)*1.1\n",
    "fig = plt.figure(figsize=(8,6))\n",
    "xCurve = np.linspace(xMin, xMax, 100)\n",
    "yCurve = f(xCurve, MLE)\n",
    "plt.plot(xCurve, yCurve, color='dodgerblue')"
   ]
  },
  {
   "cell_type": "code",
   "execution_count": null,
   "id": "b4204357",
   "metadata": {},
   "outputs": [],
   "source": [
    "# Plot data as tick marks\n",
    "tick_height = 0.05*(yMax - yMin)\n",
    "xvals = [xData, xData]\n",
    "yvals = [np.zeros_like(xData), tick_height * np.ones_like(xData)]\n",
    "plt.plot(xvals, yvals, color='black', linewidth=1)\n",
    "plt.xlabel(r'$x$')\n",
    "plt.ylabel(r'$f(x; \\theta)$')\n",
    "plt.figtext(0.6, 0.8, r'$\\hat{\\theta} = $' + f'{MLE[0]:.4f}' +\n",
    "            r'$\\pm$' + f'{sigmaMLE[0]:.4f}')\n",
    "plt.figtext(0.6, 0.72, r'$\\hat{\\xi} = $' + f'{MLE[3]:.4f}' +\n",
    "            r'$\\pm$' + f'{sigmaMLE[3]:.4f}')\n",
    "plt.xlim(xMin, xMax)\n",
    "plt.ylim(yMin, yMax)\n",
    "plt.show()"
   ]
  },
  {
   "cell_type": "code",
   "execution_count": null,
   "id": "5c2c0e0e",
   "metadata": {},
   "outputs": [],
   "source": [
    "# Make scan of lnL (for theta, if free)\n",
    "if not(m.fixed['theta']):\n",
    "    plt.figure()\n",
    "    m.draw_mnprofile('theta')\n",
    "    plt.show()"
   ]
  },
  {
   "cell_type": "code",
   "execution_count": null,
   "id": "46b0c1bf",
   "metadata": {},
   "outputs": [],
   "source": [
    "# Make a contour plot of lnL = lnLmax - 1/2 (here for theta and xi).\n",
    "# The tangents to this contour give the standard deviations.\n",
    "CL = stats.chi2.cdf(1.,2)            #  Q_alpha = 1, npar = 2\n",
    "print('CL = ', CL)\n",
    "if not(m.fixed['theta'] | m.fixed['xi']):\n",
    "    fig, ax = plt.subplots(1,1)\n",
    "    con = m.mncontour('theta', 'xi', cl=CL, size=200)\n",
    "    con = np.vstack([con, con[0]])         # close contour\n",
    "    plt.plot(MLE[0], MLE[3], marker='o', linestyle='None', color='black', label=r'$(\\hat{\\theta}, \\hat{\\xi})$')\n",
    "    plt.plot(con[:,0], con[:,1], color='black', linewidth=1)\n",
    "    plt.xlabel(r'$\\theta$', labelpad=5)\n",
    "    plt.ylabel(r'$\\xi$', labelpad=5)\n",
    "    handles, labels = ax.get_legend_handles_labels()\n",
    "    plt.legend(handles, labels, loc='upper right', fontsize=14, frameon=False)\n",
    "    plt.figtext(0.4, 0.93, r'$\\ln L = \\ln L_{\\rm max} - 1/2$')\n",
    "    plt.show()"
   ]
  },
  {
   "cell_type": "code",
   "execution_count": null,
   "id": "a33322a3",
   "metadata": {},
   "outputs": [],
   "source": [
    "# Confidence region from lnL = lnLmax - Q/2 (here for theta and xi)\n",
    "# where Q is the chi2 quantile of CL = 1-alpha = 0.683 and 0.95 for 2 dof.\n",
    "if not(m.fixed['theta'] | m.fixed['xi']):\n",
    "    fig, ax = plt.subplots(1,1)\n",
    "    m.draw_mncontour('theta', 'xi', cl=[0.683, 0.95], size=200);\n",
    "    plt.plot(MLE[0], MLE[3], marker='o', linestyle='None', color='black', label=r'$(\\hat{\\theta}, \\hat{\\xi})$')\n",
    "    plt.xlabel(r'$\\theta$', labelpad=10)\n",
    "    plt.ylabel(r'$\\xi$', labelpad=10)\n",
    "    plt.subplots_adjust(left=0.2, right=0.9, top=0.9, bottom=0.2)\n",
    "    handles, labels = ax.get_legend_handles_labels()\n",
    "    plt.legend(handles, labels, loc='upper right', fontsize=14, frameon=False)\n",
    "    plt.figtext(0.3, 0.93, r'$\\ln L = \\ln L_{\\rm max} - \\frac{1}{2} F^{-1}_{\\chi^2}(1-\\alpha;n)$')\n",
    "    plt.show()"
   ]
  },
  {
   "cell_type": "markdown",
   "id": "fc8ee405-536c-4753-9a4a-a47509e128ea",
   "metadata": {},
   "source": [
    "Task 2: Now checkout dataset1-5. Repeat the fit for all of them and plot the change of the $\\sigma(\\theta)$ versus sample size. Which relation do you observe?"
   ]
  },
  {
   "cell_type": "code",
   "execution_count": 6,
   "id": "faf176c0-b981-431e-a610-c9cda88f95a9",
   "metadata": {},
   "outputs": [
    {
     "name": "stderr",
     "output_type": "stream",
     "text": [
      "/srv/conda/envs/notebook/lib/python3.10/site-packages/zfit/__init__.py:60: UserWarning: TensorFlow warnings are by default suppressed by zfit. In order to show them, set the environment variable ZFIT_DISABLE_TF_WARNINGS=0. In order to suppress the TensorFlow warnings AND this warning, set ZFIT_DISABLE_TF_WARNINGS=1.\n",
      "  warnings.warn(\n",
      "2025-05-08 20:56:34.387876: E external/local_xla/xla/stream_executor/cuda/cuda_fft.cc:467] Unable to register cuFFT factory: Attempting to register factory for plugin cuFFT when one has already been registered\n",
      "WARNING: All log messages before absl::InitializeLog() is called are written to STDERR\n",
      "E0000 00:00:1746737794.401367     579 cuda_dnn.cc:8579] Unable to register cuDNN factory: Attempting to register factory for plugin cuDNN when one has already been registered\n",
      "E0000 00:00:1746737794.405356     579 cuda_blas.cc:1407] Unable to register cuBLAS factory: Attempting to register factory for plugin cuBLAS when one has already been registered\n",
      "W0000 00:00:1746737794.417354     579 computation_placer.cc:177] computation placer already registered. Please check linkage and avoid linking the same target more than once.\n",
      "W0000 00:00:1746737794.417366     579 computation_placer.cc:177] computation placer already registered. Please check linkage and avoid linking the same target more than once.\n",
      "W0000 00:00:1746737794.417368     579 computation_placer.cc:177] computation placer already registered. Please check linkage and avoid linking the same target more than once.\n",
      "W0000 00:00:1746737794.417369     579 computation_placer.cc:177] computation placer already registered. Please check linkage and avoid linking the same target more than once.\n"
     ]
    }
   ],
   "source": [
    "#Here is your solution\n",
    "import ROOT\n",
    "import zfit"
   ]
  }
 ],
 "metadata": {
  "jupytext": {
   "cell_metadata_filter": "-all",
   "main_language": "python",
   "notebook_metadata_filter": "-all"
  },
  "kernelspec": {
   "display_name": "Python 3 (ipykernel)",
   "language": "python",
   "name": "python3"
  },
  "language_info": {
   "codemirror_mode": {
    "name": "ipython",
    "version": 3
   },
   "file_extension": ".py",
   "mimetype": "text/x-python",
   "name": "python",
   "nbconvert_exporter": "python",
   "pygments_lexer": "ipython3",
   "version": "3.10.16"
  }
 },
 "nbformat": 4,
 "nbformat_minor": 5
}
